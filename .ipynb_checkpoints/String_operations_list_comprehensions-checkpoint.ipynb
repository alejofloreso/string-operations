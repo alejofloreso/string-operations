{
 "cells": [
  {
   "cell_type": "markdown",
   "metadata": {},
   "source": [
    "# String Operations"
   ]
  },
  {
   "cell_type": "code",
   "execution_count": null,
   "metadata": {},
   "outputs": [],
   "source": [
    "str()"
   ]
  },
  {
   "cell_type": "code",
   "execution_count": 4,
   "metadata": {},
   "outputs": [],
   "source": [
    "# Unicode\n",
    "\n",
    "caracter = 'Cualquier linea de texto o s1mb0l0'\n",
    "\n",
    "caracter_2 = \"Esto también es un string\"\n",
    "\n",
    "caracter_3 = \"\"\"\n",
    "            Esto también es un string\n",
    "            pero más largo \n",
    "            \"\"\"\n",
    "\n",
    "caracter_4 = \"\"\"\n",
    "            Aquí va el texto\n",
    "            largo\n",
    "            \"\"\"\n",
    "\n"
   ]
  },
  {
   "cell_type": "code",
   "execution_count": 5,
   "metadata": {},
   "outputs": [
    {
     "name": "stdout",
     "output_type": "stream",
     "text": [
      "Cualquier linea de texto o s1mb0l0\n",
      "Esto también es un string\n",
      "\n",
      "            Esto también es un string\n",
      "            pero más largo \n",
      "            \n",
      "\n",
      "            Aquí va el texto\n",
      "            largo\n",
      "            \n"
     ]
    }
   ],
   "source": [
    "print(caracter)\n",
    "print(caracter_2)\n",
    "print(caracter_3)\n",
    "print(caracter_4)"
   ]
  },
  {
   "cell_type": "code",
   "execution_count": 3,
   "metadata": {},
   "outputs": [
    {
     "name": "stdout",
     "output_type": "stream",
     "text": [
      "34\n",
      "25\n",
      "79\n"
     ]
    }
   ],
   "source": [
    "print(len(caracter))\n",
    "print(len(caracter_2))\n",
    "print(len(caracter_3))"
   ]
  },
  {
   "cell_type": "code",
   "execution_count": 6,
   "metadata": {},
   "outputs": [
    {
     "name": "stdout",
     "output_type": "stream",
     "text": [
      "83\n",
      "98\n",
      "152\n"
     ]
    }
   ],
   "source": [
    "import sys\n",
    "\n",
    "print(sys.getsizeof(caracter))\n",
    "print(sys.getsizeof(caracter_2))\n",
    "print(sys.getsizeof(caracter_3))\n",
    "\n"
   ]
  },
  {
   "cell_type": "code",
   "execution_count": 1,
   "metadata": {},
   "outputs": [
    {
     "data": {
      "text/plain": [
       "str"
      ]
     },
     "execution_count": 1,
     "metadata": {},
     "output_type": "execute_result"
    }
   ],
   "source": [
    "# UTF-8 tipo de codificación\n",
    "\n",
    "string = 'Esto es üni022_='\n",
    "\n",
    "type(string)"
   ]
  },
  {
   "cell_type": "code",
   "execution_count": 2,
   "metadata": {},
   "outputs": [
    {
     "data": {
      "text/plain": [
       "b'Esto es \\xc3\\xbcni022_='"
      ]
     },
     "execution_count": 2,
     "metadata": {},
     "output_type": "execute_result"
    }
   ],
   "source": [
    "encoded_string = string.encode('utf-8')\n",
    "encoded_string"
   ]
  },
  {
   "cell_type": "code",
   "execution_count": 6,
   "metadata": {},
   "outputs": [
    {
     "data": {
      "text/plain": [
       "b'aqui algo'"
      ]
     },
     "execution_count": 6,
     "metadata": {},
     "output_type": "execute_result"
    }
   ],
   "source": [
    "by = b'aqui algo'\n",
    "by"
   ]
  },
  {
   "cell_type": "code",
   "execution_count": 5,
   "metadata": {},
   "outputs": [
    {
     "data": {
      "text/plain": [
       "bytes"
      ]
     },
     "execution_count": 5,
     "metadata": {},
     "output_type": "execute_result"
    }
   ],
   "source": [
    "type(by)"
   ]
  },
  {
   "cell_type": "code",
   "execution_count": 7,
   "metadata": {},
   "outputs": [
    {
     "name": "stdout",
     "output_type": "stream",
     "text": [
      "E\n"
     ]
    }
   ],
   "source": [
    "nocturno = 'En medio de un silencio desierto...'\n",
    "\n",
    "print(nocturno[0])"
   ]
  },
  {
   "cell_type": "code",
   "execution_count": 12,
   "metadata": {},
   "outputs": [
    {
     "data": {
      "text/plain": [
       "'i'"
      ]
     },
     "execution_count": 12,
     "metadata": {},
     "output_type": "execute_result"
    }
   ],
   "source": [
    "nocturno[6]"
   ]
  },
  {
   "cell_type": "code",
   "execution_count": 10,
   "metadata": {},
   "outputs": [
    {
     "data": {
      "text/plain": [
       "'edio de un silencio desierto...'"
      ]
     },
     "execution_count": 10,
     "metadata": {},
     "output_type": "execute_result"
    }
   ],
   "source": [
    "nocturno[4:]"
   ]
  },
  {
   "cell_type": "code",
   "execution_count": 11,
   "metadata": {},
   "outputs": [
    {
     "data": {
      "text/plain": [
       "' med'"
      ]
     },
     "execution_count": 11,
     "metadata": {},
     "output_type": "execute_result"
    }
   ],
   "source": [
    "nocturno[2:6]"
   ]
  },
  {
   "cell_type": "code",
   "execution_count": 16,
   "metadata": {},
   "outputs": [
    {
     "data": {
      "text/plain": [
       "'nmdod'"
      ]
     },
     "execution_count": 16,
     "metadata": {},
     "output_type": "execute_result"
    }
   ],
   "source": [
    "nocturno[1:10:2]"
   ]
  },
  {
   "cell_type": "code",
   "execution_count": 23,
   "metadata": {},
   "outputs": [
    {
     "name": "stdout",
     "output_type": "stream",
     "text": [
      "0\n",
      "10\n",
      "20\n",
      "30\n",
      "40\n",
      "50\n",
      "60\n",
      "70\n",
      "80\n",
      "90\n",
      "100\n"
     ]
    }
   ],
   "source": [
    "for i in range(0,101,10):\n",
    "    print(i)"
   ]
  },
  {
   "cell_type": "code",
   "execution_count": 24,
   "metadata": {},
   "outputs": [
    {
     "data": {
      "text/plain": [
       "'En medio de un silencio desierto...'"
      ]
     },
     "execution_count": 24,
     "metadata": {},
     "output_type": "execute_result"
    }
   ],
   "source": [
    "nocturno[:]"
   ]
  },
  {
   "cell_type": "code",
   "execution_count": 28,
   "metadata": {},
   "outputs": [
    {
     "data": {
      "text/plain": [
       "'o'"
      ]
     },
     "execution_count": 28,
     "metadata": {},
     "output_type": "execute_result"
    }
   ],
   "source": [
    "nocturno[-4]"
   ]
  },
  {
   "cell_type": "code",
   "execution_count": 30,
   "metadata": {},
   "outputs": [
    {
     "data": {
      "text/plain": [
       "'En medio de un silencio desierto... como la calle antes del crimen'"
      ]
     },
     "execution_count": 30,
     "metadata": {},
     "output_type": "execute_result"
    }
   ],
   "source": [
    "nocturno = 'En medio de un silencio desierto...'\n",
    "\n",
    "nocturno_2 = 'como la calle antes del crimen'\n",
    "\n",
    "nocturno + ' ' + nocturno_2\n"
   ]
  },
  {
   "cell_type": "code",
   "execution_count": 34,
   "metadata": {},
   "outputs": [
    {
     "data": {
      "text/plain": [
       "'En medio de un silencio desierto... como la calle antes del crimen  sin respirar si quiera'"
      ]
     },
     "execution_count": 34,
     "metadata": {},
     "output_type": "execute_result"
    }
   ],
   "source": [
    "verso = [nocturno, nocturno_2,\n",
    "         \" sin respirar si quiera\"]\n",
    "\n",
    "' '.join(verso)"
   ]
  },
  {
   "cell_type": "code",
   "execution_count": 35,
   "metadata": {},
   "outputs": [
    {
     "name": "stdout",
     "output_type": "stream",
     "text": [
      "----------------------------------------------------------------------\n"
     ]
    }
   ],
   "source": [
    "print('-------' * 10)"
   ]
  },
  {
   "cell_type": "code",
   "execution_count": 36,
   "metadata": {},
   "outputs": [
    {
     "name": "stdout",
     "output_type": "stream",
     "text": [
      "////////////////////////////////////////\n"
     ]
    }
   ],
   "source": [
    "print('////////' * 5)"
   ]
  },
  {
   "cell_type": "code",
   "execution_count": 37,
   "metadata": {},
   "outputs": [
    {
     "data": {
      "text/plain": [
       "'Alo policia soy LlponZ'"
      ]
     },
     "execution_count": 37,
     "metadata": {},
     "output_type": "execute_result"
    }
   ],
   "source": [
    "saluditos = 'Alo policia soy %s'\n",
    "\n",
    "saluditos % 'LlponZ'"
   ]
  },
  {
   "cell_type": "code",
   "execution_count": 38,
   "metadata": {},
   "outputs": [
    {
     "data": {
      "text/plain": [
       "'Alo policia soy LlPonZ el TA más...'"
      ]
     },
     "execution_count": 38,
     "metadata": {},
     "output_type": "execute_result"
    }
   ],
   "source": [
    "saluditos = 'Alo policia soy {} {}'\n",
    "\n",
    "saluditos.format('LlPonZ', 'el TA más...')"
   ]
  },
  {
   "cell_type": "code",
   "execution_count": 39,
   "metadata": {},
   "outputs": [
    {
     "data": {
      "text/plain": [
       "'Tambien se puede repetir, no repetir, repetir'"
      ]
     },
     "execution_count": 39,
     "metadata": {},
     "output_type": "execute_result"
    }
   ],
   "source": [
    "saluditos = 'Tambien se puede {0}, {1}, {0}'\n",
    "\n",
    "saluditos.format(\"repetir\", \"no repetir\")"
   ]
  },
  {
   "cell_type": "code",
   "execution_count": 45,
   "metadata": {},
   "outputs": [
    {
     "data": {
      "text/plain": [
       "'Alo, soy Luis Alberto, Toro y estoy en la edad de los rockstars 27'"
      ]
     },
     "execution_count": 45,
     "metadata": {},
     "output_type": "execute_result"
    }
   ],
   "source": [
    "nombre = ['Luis Alberto', 'Toro']\n",
    "\n",
    "edad = 27\n",
    "\n",
    "f'Alo, soy {\", \".join(nombre)} y estoy en la edad de los rockstars {edad}'"
   ]
  },
  {
   "cell_type": "code",
   "execution_count": 46,
   "metadata": {},
   "outputs": [],
   "source": [
    "poema = \"\"\"Do not go gentle into that good night, \n",
    "Old age should burn and rave at close of day;\n",
    "Rage, rage against the dying of the light.\"\"\"\n"
   ]
  },
  {
   "cell_type": "code",
   "execution_count": 48,
   "metadata": {
    "scrolled": true
   },
   "outputs": [
    {
     "name": "stdout",
     "output_type": "stream",
     "text": [
      "['Do', 'not', 'go', 'gentle', 'into', 'that', 'good', 'night,', 'Old', 'age', 'should', 'burn', 'and', 'rave', 'at', 'close', 'of', 'day;', 'Rage,', 'rage', 'against', 'the', 'dying', 'of', 'the', 'light.']\n"
     ]
    }
   ],
   "source": [
    "print(poema.split())"
   ]
  },
  {
   "cell_type": "code",
   "execution_count": 49,
   "metadata": {},
   "outputs": [
    {
     "name": "stdout",
     "output_type": "stream",
     "text": [
      "['Do not go gentle into that good night, \\nOld age should burn and rave at close of day', '\\nRage, rage against the dying of the light.']\n"
     ]
    }
   ],
   "source": [
    "print(poema.split(';'))"
   ]
  },
  {
   "cell_type": "code",
   "execution_count": 50,
   "metadata": {},
   "outputs": [
    {
     "name": "stdout",
     "output_type": "stream",
     "text": [
      "['Do not go gentle into that good night', ' \\nOld age should burn and rave at close of day;\\nRage', ' rage against the dying of the light.']\n"
     ]
    }
   ],
   "source": [
    "print(poema.split(','))"
   ]
  },
  {
   "cell_type": "code",
   "execution_count": 51,
   "metadata": {},
   "outputs": [
    {
     "name": "stdout",
     "output_type": "stream",
     "text": [
      "['Do not go gentle into th', ' good night, \\nOld age should burn and rave ', ' close of day;\\nRage, rage against the dying of the light.']\n"
     ]
    }
   ],
   "source": [
    "print(poema.split('at'))"
   ]
  },
  {
   "cell_type": "code",
   "execution_count": 53,
   "metadata": {},
   "outputs": [],
   "source": [
    "# help(str)"
   ]
  },
  {
   "cell_type": "code",
   "execution_count": 54,
   "metadata": {},
   "outputs": [
    {
     "name": "stdout",
     "output_type": "stream",
     "text": [
      "True\n"
     ]
    }
   ],
   "source": [
    "print(poema.startswith('Do not'))"
   ]
  },
  {
   "cell_type": "code",
   "execution_count": 55,
   "metadata": {},
   "outputs": [
    {
     "name": "stdout",
     "output_type": "stream",
     "text": [
      "False\n"
     ]
    }
   ],
   "source": [
    "print(poema.startswith('do not'))"
   ]
  },
  {
   "cell_type": "code",
   "execution_count": 56,
   "metadata": {},
   "outputs": [
    {
     "name": "stdout",
     "output_type": "stream",
     "text": [
      "False\n"
     ]
    }
   ],
   "source": [
    "print(poema.endswith('ght'))"
   ]
  },
  {
   "cell_type": "code",
   "execution_count": 57,
   "metadata": {},
   "outputs": [
    {
     "name": "stdout",
     "output_type": "stream",
     "text": [
      "True\n"
     ]
    }
   ],
   "source": [
    "print(poema.endswith('ght.'))\n"
   ]
  },
  {
   "cell_type": "code",
   "execution_count": 58,
   "metadata": {},
   "outputs": [
    {
     "data": {
      "text/plain": [
       "True"
      ]
     },
     "execution_count": 58,
     "metadata": {},
     "output_type": "execute_result"
    }
   ],
   "source": [
    "'rage' in poema"
   ]
  },
  {
   "cell_type": "code",
   "execution_count": 59,
   "metadata": {},
   "outputs": [],
   "source": [
    "assert 'rage' in poema"
   ]
  },
  {
   "cell_type": "code",
   "execution_count": 60,
   "metadata": {},
   "outputs": [
    {
     "ename": "AssertionError",
     "evalue": "",
     "output_type": "error",
     "traceback": [
      "\u001b[0;31m---------------------------------------------------------------------------\u001b[0m",
      "\u001b[0;31mAssertionError\u001b[0m                            Traceback (most recent call last)",
      "\u001b[0;32m<ipython-input-60-749b3befb756>\u001b[0m in \u001b[0;36m<module>\u001b[0;34m\u001b[0m\n\u001b[0;32m----> 1\u001b[0;31m \u001b[0;32massert\u001b[0m \u001b[0;34m'raves'\u001b[0m \u001b[0;32min\u001b[0m \u001b[0mpoema\u001b[0m\u001b[0;34m\u001b[0m\u001b[0;34m\u001b[0m\u001b[0m\n\u001b[0m",
      "\u001b[0;31mAssertionError\u001b[0m: "
     ]
    }
   ],
   "source": [
    "assert 'raves' in poema"
   ]
  },
  {
   "cell_type": "code",
   "execution_count": 61,
   "metadata": {},
   "outputs": [
    {
     "name": "stdout",
     "output_type": "stream",
     "text": [
      "do not go gentle into that good night.\n",
      "DO NOT GO GENTLE INTO THAT GOOD NIGHT.\n",
      "Do not go gentle into that good night.\n",
      "Do Not Go Gentle Into That Good Night.\n"
     ]
    }
   ],
   "source": [
    "poem = 'Do not Go genTle InTo that GOOD night.'\n",
    "\n",
    "print(poem.lower())\n",
    "print(poem.upper())\n",
    "print(poem.capitalize())\n",
    "print(poem.title())\n"
   ]
  },
  {
   "cell_type": "code",
   "execution_count": 62,
   "metadata": {},
   "outputs": [],
   "source": [
    "import re"
   ]
  },
  {
   "cell_type": "code",
   "execution_count": 83,
   "metadata": {},
   "outputs": [],
   "source": [
    "v = \"\"\"Voilà! In view, a humble vaudevillian veteran, \n",
    "cast vicariously as both victim and villain by the vicissitudes\n",
    "of Fate. This visage, no mere veneer of vanity, is it vestige \n",
    "of the vox populi, now vacant, vanished, as the once vital voice \n",
    "of the verisimilitude now venerates what they once vilified.\n",
    "However, this valorous visitation of a bygone vexation stands\n",
    "vivified, and has vowed to vanquish these venal and virulent\n",
    "vermin vanguarding vice and vouchsafing the violently vicious \n",
    "and voracious violation of volition. \n",
    "The only verdict is vengeance; \n",
    "a vendetta held as a votive, not in vain,\n",
    "for the value and veracity of such shall one day vindicate\n",
    "the vigilant and the virtuous.\n",
    "Verily, this vichyssoise of verbiage veers most verbose\n",
    "vis-à-vis an introduction,\n",
    "and so it is my very good honor to meet you\n",
    "and you may call me V.\"\"\" "
   ]
  },
  {
   "cell_type": "code",
   "execution_count": 80,
   "metadata": {},
   "outputs": [
    {
     "data": {
      "text/plain": [
       "839"
      ]
     },
     "execution_count": 80,
     "metadata": {},
     "output_type": "execute_result"
    }
   ],
   "source": [
    "len(v)"
   ]
  },
  {
   "cell_type": "code",
   "execution_count": 65,
   "metadata": {},
   "outputs": [
    {
     "name": "stdout",
     "output_type": "stream",
     "text": [
      "['ver', 'ver', 'ver', 'ver', 'ver', 'ver', 'ver', 'ver']\n"
     ]
    }
   ],
   "source": [
    "print(re.findall(r'ver', v))"
   ]
  },
  {
   "cell_type": "code",
   "execution_count": 70,
   "metadata": {
    "scrolled": true
   },
   "outputs": [],
   "source": [
    "# re.split(r'[,\\.]', v)"
   ]
  },
  {
   "cell_type": "code",
   "execution_count": 82,
   "metadata": {},
   "outputs": [],
   "source": [
    "# re.search(r'honor', v)"
   ]
  },
  {
   "cell_type": "code",
   "execution_count": 72,
   "metadata": {
    "scrolled": true
   },
   "outputs": [],
   "source": [
    "# print(re.findall(r'[a-z]', v))"
   ]
  },
  {
   "cell_type": "code",
   "execution_count": 77,
   "metadata": {
    "scrolled": true
   },
   "outputs": [
    {
     "name": "stdout",
     "output_type": "stream",
     "text": [
      "['V', 'o', 'i', 'l', 'I', 'n', 'v', 'i', 'e', 'w', 'a', 'h', 'u', 'm', 'b', 'l', 'e', 'v', 'a', 'u', 'd', 'e', 'v', 'i', 'l', 'l', 'i', 'a', 'n', 'v', 'e', 't', 'e', 'r', 'a', 'n', 'c', 'a', 's', 't', 'v', 'i', 'c', 'a', 'r', 'i', 'o', 'u', 's', 'l', 'y', 'a', 's', 'b', 'o', 't', 'h', 'v', 'i', 'c', 't', 'i', 'm', 'a', 'n', 'd', 'v', 'i', 'l', 'l', 'a', 'i', 'n', 'b', 'y', 't', 'h', 'e', 'v', 'i', 'c', 'i', 's', 's', 'i', 't', 'u', 'd', 'e', 's', 'o', 'f', 'F', 'a', 't', 'e', 'T', 'h', 'i', 's', 'v', 'i', 's', 'a', 'g', 'e', 'n', 'o', 'm', 'e', 'r', 'e', 'v', 'e', 'n', 'e', 'e', 'r', 'o', 'f', 'v', 'a', 'n', 'i', 't', 'y', 'i', 's', 'i', 't', 'v', 'e', 's', 't', 'i', 'g', 'e', 'o', 'f', 't', 'h', 'e', 'v', 'o', 'x', 'p', 'o', 'p', 'u', 'l', 'i', 'n', 'o', 'w', 'v', 'a', 'c', 'a', 'n', 't', 'v', 'a', 'n', 'i', 's', 'h', 'e', 'd', 'a', 's', 't', 'h', 'e', 'o', 'n', 'c', 'e', 'v', 'i', 't', 'a', 'l', 'v', 'o', 'i', 'c', 'e', 'o', 'f', 't', 'h', 'e', 'v', 'e', 'r', 'i', 's', 'i', 'm', 'i', 'l', 'i', 't', 'u', 'd', 'e', 'n', 'o', 'w', 'v', 'e', 'n', 'e', 'r', 'a', 't', 'e', 's', 'w', 'h', 'a', 't', 't', 'h', 'e', 'y', 'o', 'n', 'c', 'e', 'v', 'i', 'l', 'i', 'f', 'i', 'e', 'd', 'H', 'o', 'w', 'e', 'v', 'e', 'r', 't', 'h', 'i', 's', 'v', 'a', 'l', 'o', 'r', 'o', 'u', 's', 'v', 'i', 's', 'i', 't', 'a', 't', 'i', 'o', 'n', 'o', 'f', 'a', 'b', 'y', 'g', 'o', 'n', 'e', 'v', 'e', 'x', 'a', 't', 'i', 'o', 'n', 's', 't', 'a', 'n', 'd', 's', 'v', 'i', 'v', 'i', 'f', 'i', 'e', 'd', 'a', 'n', 'd', 'h', 'a', 's', 'v', 'o', 'w', 'e', 'd', 't', 'o', 'v', 'a', 'n', 'q', 'u', 'i', 's', 'h', 't', 'h', 'e', 's', 'e', 'v', 'e', 'n', 'a', 'l', 'a', 'n', 'd', 'v', 'i', 'r', 'u', 'l', 'e', 'n', 't', 'v', 'e', 'r', 'm', 'i', 'n', 'v', 'a', 'n', 'g', 'u', 'a', 'r', 'd', 'i', 'n', 'g', 'v', 'i', 'c', 'e', 'a', 'n', 'd', 'v', 'o', 'u', 'c', 'h', 's', 'a', 'f', 'i', 'n', 'g', 't', 'h', 'e', 'v', 'i', 'o', 'l', 'e', 'n', 't', 'l', 'y', 'v', 'i', 'c', 'i', 'o', 'u', 's', 'a', 'n', 'd', 'v', 'o', 'r', 'a', 'c', 'i', 'o', 'u', 's', 'v', 'i', 'o', 'l', 'a', 't', 'i', 'o', 'n', 'o', 'f', 'v', 'o', 'l', 'i', 't', 'i', 'o', 'n', 'T', 'h', 'e', 'o', 'n', 'l', 'y', 'v', 'e', 'r', 'd', 'i', 'c', 't', 'i', 's', 'v', 'e', 'n', 'g', 'e', 'a', 'n', 'c', 'e', ';', 'a', 'v', 'e', 'n', 'd', 'e', 't', 't', 'a', 'h', 'e', 'l', 'd', 'a', 's', 'a', 'v', 'o', 't', 'i', 'v', 'e', 'n', 'o', 't', 'i', 'n', 'v', 'a', 'i', 'n', 'f', 'o', 'r', 't', 'h', 'e', 'v', 'a', 'l', 'u', 'e', 'a', 'n', 'd', 'v', 'e', 'r', 'a', 'c', 'i', 't', 'y', 'o', 'f', 's', 'u', 'c', 'h', 's', 'h', 'a', 'l', 'l', 'o', 'n', 'e', 'd', 'a', 'y', 'v', 'i', 'n', 'd', 'i', 'c', 'a', 't', 'e', 't', 'h', 'e', 'v', 'i', 'g', 'i', 'l', 'a', 'n', 't', 'a', 'n', 'd', 't', 'h', 'e', 'v', 'i', 'r', 't', 'u', 'o', 'u', 's', 'V', 'e', 'r', 'i', 'l', 'y', 't', 'h', 'i', 's', 'v', 'i', 'c', 'h', 'y', 's', 's', 'o', 'i', 's', 'e', 'o', 'f', 'v', 'e', 'r', 'b', 'i', 'a', 'g', 'e', 'v', 'e', 'e', 'r', 's', 'm', 'o', 's', 't', 'v', 'e', 'r', 'b', 'o', 's', 'e', 'v', 'i', 's', 'v', 'i', 's', 'a', 'n', 'i', 'n', 't', 'r', 'o', 'd', 'u', 'c', 't', 'i', 'o', 'n', 'a', 'n', 'd', 's', 'o', 'i', 't', 'i', 's', 'm', 'y', 'v', 'e', 'r', 'y', 'g', 'o', 'o', 'd', 'h', 'o', 'n', 'o', 'r', 't', 'o', 'm', 'e', 'e', 't', 'y', 'o', 'u', 'a', 'n', 'd', 'y', 'o', 'u', 'm', 'a', 'y', 'c', 'a', 'l', 'l', 'm', 'e', 'V']\n"
     ]
    }
   ],
   "source": [
    "print(re.findall(r'[1-z]', v))"
   ]
  },
  {
   "cell_type": "code",
   "execution_count": 78,
   "metadata": {},
   "outputs": [
    {
     "data": {
      "text/plain": [
       "49"
      ]
     },
     "execution_count": 78,
     "metadata": {},
     "output_type": "execute_result"
    }
   ],
   "source": [
    "ord('1')"
   ]
  },
  {
   "cell_type": "code",
   "execution_count": 86,
   "metadata": {},
   "outputs": [
    {
     "data": {
      "text/plain": [
       "224"
      ]
     },
     "execution_count": 86,
     "metadata": {},
     "output_type": "execute_result"
    }
   ],
   "source": [
    "ord('à')"
   ]
  },
  {
   "cell_type": "code",
   "execution_count": 87,
   "metadata": {},
   "outputs": [],
   "source": [
    "# print(re.findall('[^a-z]', v))"
   ]
  },
  {
   "cell_type": "code",
   "execution_count": 94,
   "metadata": {},
   "outputs": [
    {
     "name": "stdout",
     "output_type": "stream",
     "text": [
      "['n', 'n', 'n', 'n', 'n', 'n', 'n', 'n', 'n', 'n', 'n', 'n', 'n', 'n', 'n', 'n', 'n', 'n', 'n', 'n', 'n', 'n', 'n', 'n', 'n', 'n', 'n', 'n', 'n', 'n', 'n', 'n', 'n', 'n', 'n', 'n', 'n', 'n', 'n', 'n', 'n', 'n', 'n', 'n', 'n', 'n', 'n', 'n', 'n', 'n', 'n']\n"
     ]
    }
   ],
   "source": [
    "print(re.findall(r'[$n]', v))"
   ]
  },
  {
   "cell_type": "code",
   "execution_count": 97,
   "metadata": {},
   "outputs": [
    {
     "data": {
      "text/plain": [
       "[]"
      ]
     },
     "execution_count": 97,
     "metadata": {},
     "output_type": "execute_result"
    }
   ],
   "source": [
    "re.findall('[\\d]', v)"
   ]
  },
  {
   "cell_type": "code",
   "execution_count": 104,
   "metadata": {},
   "outputs": [],
   "source": [
    "# re.findall('[\\W]', v)"
   ]
  },
  {
   "cell_type": "code",
   "execution_count": 100,
   "metadata": {},
   "outputs": [],
   "source": [
    "n = re.findall('n', v)"
   ]
  },
  {
   "cell_type": "code",
   "execution_count": 103,
   "metadata": {},
   "outputs": [
    {
     "data": {
      "text/plain": [
       "51"
      ]
     },
     "execution_count": 103,
     "metadata": {},
     "output_type": "execute_result"
    }
   ],
   "source": [
    "len(n)"
   ]
  },
  {
   "cell_type": "markdown",
   "metadata": {},
   "source": [
    "\n",
    "    \\w: Any alphanumeric character.\n",
    "    \\W: Any non-alphanumeric character.\n",
    "    \\d: Any numeric character.\n",
    "    \\D: Any non-numeric character.\n",
    "    \\s: Any whitespace characters.\n",
    "    \\S: Any non-whitespace characters.\n",
    "    .: Any character except newline (\\n).\n"
   ]
  },
  {
   "cell_type": "code",
   "execution_count": null,
   "metadata": {},
   "outputs": [],
   "source": []
  }
 ],
 "metadata": {
  "kernelspec": {
   "display_name": "Python 3",
   "language": "python",
   "name": "python3"
  },
  "language_info": {
   "codemirror_mode": {
    "name": "ipython",
    "version": 3
   },
   "file_extension": ".py",
   "mimetype": "text/x-python",
   "name": "python",
   "nbconvert_exporter": "python",
   "pygments_lexer": "ipython3",
   "version": "3.8.5"
  }
 },
 "nbformat": 4,
 "nbformat_minor": 2
}
